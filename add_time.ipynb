{
 "cells": [
  {
   "cell_type": "code",
   "execution_count": 63,
   "id": "4e06b2b2",
   "metadata": {},
   "outputs": [],
   "source": [
    "class Time:\n",
    "    def __init__(self,hour = 0,minu = 0,sec = 0):\n",
    "        self.hour = hour\n",
    "        self.minu = minu\n",
    "        self.sec = sec\n",
    "        \n",
    "    def __str__(self):\n",
    "        return '%.2d:%.2d:%.2d'%(self.hour,self.minu,self.sec)\n",
    "    \n",
    "    def __add__(self,other):\n",
    "        sec = self.time_to_sec(self)+other.time_to_sec(other)\n",
    "        return self.sec_to_time(sec)\n",
    "    \n",
    "    def show_time(self):\n",
    "        print('(%.2d:%.2d:%.2d)'%(self.hour,self.minu,self.sec))\n",
    "        \n",
    "    '''we have to use these two methods for prevention of mistakes in adding two times '''\n",
    "        \n",
    "    # changing time to second \n",
    "    def time_to_sec(self,other):\n",
    "        minu = self.hour * 60 + self.minu\n",
    "        sec = minu * 60 + self.sec\n",
    "        return sec\n",
    "    # changing second to time\n",
    "    def sec_to_time(self,sec):\n",
    "        minu,self.sec = divmod(sec,60)\n",
    "        self.hour,self.minu = divmod(minu,60)\n",
    "        return self"
   ]
  },
  {
   "cell_type": "code",
   "execution_count": 64,
   "id": "000d5651",
   "metadata": {},
   "outputs": [],
   "source": [
    "time1 = Time(12,0,0)"
   ]
  },
  {
   "cell_type": "code",
   "execution_count": 65,
   "id": "57c8c04d",
   "metadata": {},
   "outputs": [
    {
     "name": "stdout",
     "output_type": "stream",
     "text": [
      "12:00:00\n"
     ]
    }
   ],
   "source": [
    "print(start)"
   ]
  },
  {
   "cell_type": "code",
   "execution_count": 66,
   "id": "4a76b9c8",
   "metadata": {},
   "outputs": [],
   "source": [
    "time2 = Time(5,180,120)"
   ]
  },
  {
   "cell_type": "code",
   "execution_count": 67,
   "id": "033aa5fb",
   "metadata": {},
   "outputs": [
    {
     "name": "stdout",
     "output_type": "stream",
     "text": [
      "05:180:120\n"
     ]
    }
   ],
   "source": [
    "print(time2)"
   ]
  },
  {
   "cell_type": "code",
   "execution_count": 68,
   "id": "64162640",
   "metadata": {},
   "outputs": [
    {
     "name": "stdout",
     "output_type": "stream",
     "text": [
      "20:02:00\n"
     ]
    }
   ],
   "source": [
    "print(time2+start)"
   ]
  },
  {
   "cell_type": "code",
   "execution_count": null,
   "id": "06b671ac",
   "metadata": {},
   "outputs": [],
   "source": []
  }
 ],
 "metadata": {
  "kernelspec": {
   "display_name": "Python 3 (ipykernel)",
   "language": "python",
   "name": "python3"
  },
  "language_info": {
   "codemirror_mode": {
    "name": "ipython",
    "version": 3
   },
   "file_extension": ".py",
   "mimetype": "text/x-python",
   "name": "python",
   "nbconvert_exporter": "python",
   "pygments_lexer": "ipython3",
   "version": "3.9.12"
  }
 },
 "nbformat": 4,
 "nbformat_minor": 5
}
