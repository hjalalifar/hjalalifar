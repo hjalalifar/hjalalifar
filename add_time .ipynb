{
 "cells": [
  {
   "cell_type": "code",
   "execution_count": 69,
   "id": "a9e6d6f5",
   "metadata": {},
   "outputs": [],
   "source": [
    "class Time:\n",
    "    def __init__(self,hour = 0,minu = 0,sec = 0):\n",
    "        self.hour = hour\n",
    "        self.minu = minu\n",
    "        self.sec = sec\n",
    "        \n",
    "    def __str__(self):\n",
    "        return '%.2d:%.2d:%.2d'%(self.hour,self.minu,self.sec)\n",
    "    \n",
    "    def __add__(self,other):\n",
    "        sec = self.time_to_sec(self)+other.time_to_sec(other)\n",
    "        return self.sec_to_time(sec)\n",
    "    \n",
    "    def show_time(self):\n",
    "        print('(%.2d:%.2d:%.2d)'%(self.hour,self.minu,self.sec))\n",
    "        \n",
    "    '''we have to use these two methods for prevention of mistakes in adding two times '''\n",
    "        \n",
    "    # changing time to second \n",
    "    def time_to_sec(self,other):\n",
    "        minu = self.hour * 60 + self.minu\n",
    "        sec = minu * 60 + self.sec\n",
    "        return sec\n",
    "    # changing second to time\n",
    "    def sec_to_time(self,sec):\n",
    "        minu,self.sec = divmod(sec,60)\n",
    "        self.hour,self.minu = divmod(minu,60)\n",
    "        return self"
   ]
  },
  {
   "cell_type": "code",
   "execution_count": 70,
   "id": "c692ff60",
   "metadata": {},
   "outputs": [],
   "source": [
    "time1 = Time(12,0,0)"
   ]
  },
  {
   "cell_type": "code",
   "execution_count": 71,
   "id": "097d024d",
   "metadata": {},
   "outputs": [
    {
     "name": "stdout",
     "output_type": "stream",
     "text": [
      "12:00:00\n"
     ]
    }
   ],
   "source": [
    "print(start)"
   ]
  },
  {
   "cell_type": "code",
   "execution_count": 72,
   "id": "3e897961",
   "metadata": {},
   "outputs": [],
   "source": [
    "time2 = Time(5,180,120)"
   ]
  },
  {
   "cell_type": "code",
   "execution_count": 73,
   "id": "f186aed4",
   "metadata": {},
   "outputs": [
    {
     "name": "stdout",
     "output_type": "stream",
     "text": [
      "05:180:120\n"
     ]
    }
   ],
   "source": [
    "print(time2)"
   ]
  },
  {
   "cell_type": "code",
   "execution_count": 74,
   "id": "33d3c0f0",
   "metadata": {},
   "outputs": [
    {
     "name": "stdout",
     "output_type": "stream",
     "text": [
      "20:02:00\n"
     ]
    }
   ],
   "source": [
    "print(time2+time1)"
   ]
  },
  {
   "cell_type": "code",
   "execution_count": null,
   "id": "94e6f02e",
   "metadata": {},
   "outputs": [],
   "source": []
  }
 ],
 "metadata": {
  "kernelspec": {
   "display_name": "Python 3 (ipykernel)",
   "language": "python",
   "name": "python3"
  },
  "language_info": {
   "codemirror_mode": {
    "name": "ipython",
    "version": 3
   },
   "file_extension": ".py",
   "mimetype": "text/x-python",
   "name": "python",
   "nbconvert_exporter": "python",
   "pygments_lexer": "ipython3",
   "version": "3.9.12"
  }
 },
 "nbformat": 4,
 "nbformat_minor": 5
}
